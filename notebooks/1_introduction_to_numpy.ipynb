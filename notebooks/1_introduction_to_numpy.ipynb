{
  "nbformat": 4,
  "nbformat_minor": 0,
  "metadata": {
    "colab": {
      "name": "1.introduction-to-numpy.ipynb",
      "version": "0.3.2",
      "provenance": [],
      "collapsed_sections": []
    },
    "kernelspec": {
      "name": "python3",
      "display_name": "Python 3"
    },
    "accelerator": "GPU"
  },
  "cells": [
    {
      "metadata": {
        "id": "kW0eNOM-a1TV",
        "colab_type": "code",
        "colab": {
          "base_uri": "https://localhost:8080/",
          "height": 34
        },
        "outputId": "2069476a-5768-4b62-dda7-0de4bc410578"
      },
      "cell_type": "code",
      "source": [
        "print(\"Hello World\");"
      ],
      "execution_count": 4,
      "outputs": [
        {
          "output_type": "stream",
          "text": [
            "Hello World\n"
          ],
          "name": "stdout"
        }
      ]
    },
    {
      "metadata": {
        "id": "mZNsFVd_dWGZ",
        "colab_type": "code",
        "colab": {}
      },
      "cell_type": "code",
      "source": [
        "import numpy as np\n",
        "\n",
        "#create an array\n",
        "x = np.array([1,2,3])"
      ],
      "execution_count": 0,
      "outputs": []
    },
    {
      "metadata": {
        "id": "rIvv5R_GfA3w",
        "colab_type": "code",
        "colab": {}
      },
      "cell_type": "code",
      "source": [
        "a=np.zeros((2,2))\n",
        "b=np.ones((2,2))"
      ],
      "execution_count": 0,
      "outputs": []
    },
    {
      "metadata": {
        "id": "a0u3XptdgbTW",
        "colab_type": "code",
        "colab": {
          "base_uri": "https://localhost:8080/",
          "height": 88
        },
        "outputId": "180f8a67-eea5-4144-8d51-98ce787e85d8"
      },
      "cell_type": "code",
      "source": [
        "c = np.random.randint(10, size = (5))\n",
        "d = np.random.randint(10, size = (5))\n",
        "\n",
        "e = c/d\n",
        "e"
      ],
      "execution_count": 18,
      "outputs": [
        {
          "output_type": "stream",
          "text": [
            "/usr/local/lib/python3.6/dist-packages/ipykernel_launcher.py:4: RuntimeWarning: divide by zero encountered in true_divide\n",
            "  after removing the cwd from sys.path.\n"
          ],
          "name": "stderr"
        },
        {
          "output_type": "execute_result",
          "data": {
            "text/plain": [
              "array([1.4       , 0.25      , 0.88888889,        inf,        inf])"
            ]
          },
          "metadata": {
            "tags": []
          },
          "execution_count": 18
        }
      ]
    },
    {
      "metadata": {
        "id": "o_QS8deBgqRd",
        "colab_type": "code",
        "colab": {
          "base_uri": "https://localhost:8080/",
          "height": 68
        },
        "outputId": "ecf9916e-b01c-43f5-e119-1f16ee9c6e54"
      },
      "cell_type": "code",
      "source": [
        "x = np.array([[1,2],[3,4]])\n",
        "\n",
        "print(np.sum(x))\n",
        "print(np.sum(x,axis=0)) # Sum of col\n",
        "print(np.sum(x,axis=1)) # Sum of row\n"
      ],
      "execution_count": 19,
      "outputs": [
        {
          "output_type": "stream",
          "text": [
            "10\n",
            "[4 6]\n",
            "[3 7]\n"
          ],
          "name": "stdout"
        }
      ]
    },
    {
      "metadata": {
        "id": "zX_equg5jgfY",
        "colab_type": "code",
        "colab": {}
      },
      "cell_type": "code",
      "source": [
        "# EXERCISE \n",
        "\n",
        "A = np.matrix('22 5 16 9;13 20 19 0;5 9 1 16;27 13 15 19')\n",
        "B = np.matrix('10 5 20 20; 5 21 22 27; 26 19 22 3; 27 8 18 7')\n",
        "C = np.array([24,3,17,7,11,2,21,2,24,18,3,11,14,25,2,20])\n",
        "D = np.array([3, 15, 24, 22, 19, 24, 4, 29, 6, 3, 20, 1, 11, 25, 26, 6]) "
      ],
      "execution_count": 0,
      "outputs": []
    },
    {
      "metadata": {
        "id": "plajbzu9kbFG",
        "colab_type": "code",
        "colab": {
          "base_uri": "https://localhost:8080/",
          "height": 34
        },
        "outputId": "a75ca86a-8051-445e-9bee-483a642ebe89"
      },
      "cell_type": "code",
      "source": [
        ""
      ],
      "execution_count": 35,
      "outputs": [
        {
          "output_type": "execute_result",
          "data": {
            "text/plain": [
              "dtype('int64')"
            ]
          },
          "metadata": {
            "tags": []
          },
          "execution_count": 35
        }
      ]
    },
    {
      "metadata": {
        "id": "96p3cQzxkkoJ",
        "colab_type": "code",
        "colab": {
          "base_uri": "https://localhost:8080/",
          "height": 85
        },
        "outputId": "8002fb2b-1398-4d83-b221-5eb5f0d525c7"
      },
      "cell_type": "code",
      "source": [
        "A+B"
      ],
      "execution_count": 24,
      "outputs": [
        {
          "output_type": "execute_result",
          "data": {
            "text/plain": [
              "matrix([[32, 10, 36, 29],\n",
              "        [18, 41, 41, 27],\n",
              "        [31, 28, 23, 19],\n",
              "        [54, 21, 33, 26]])"
            ]
          },
          "metadata": {
            "tags": []
          },
          "execution_count": 24
        }
      ]
    },
    {
      "metadata": {
        "id": "lcFM7nzwkpqc",
        "colab_type": "code",
        "colab": {
          "base_uri": "https://localhost:8080/",
          "height": 85
        },
        "outputId": "28b49869-4203-435d-d3cd-24641d9b9648"
      },
      "cell_type": "code",
      "source": [
        "A-B"
      ],
      "execution_count": 26,
      "outputs": [
        {
          "output_type": "execute_result",
          "data": {
            "text/plain": [
              "matrix([[ 12,   0,  -4, -11],\n",
              "        [  8,  -1,  -3, -27],\n",
              "        [-21, -10, -21,  13],\n",
              "        [  0,   5,  -3,  12]])"
            ]
          },
          "metadata": {
            "tags": []
          },
          "execution_count": 26
        }
      ]
    },
    {
      "metadata": {
        "id": "lih6wQhEkrBV",
        "colab_type": "code",
        "colab": {
          "base_uri": "https://localhost:8080/",
          "height": 85
        },
        "outputId": "0b041bea-8fd9-4258-9b04-c8255ea6f4b6"
      },
      "cell_type": "code",
      "source": [
        "np.multiply(A,B)"
      ],
      "execution_count": 37,
      "outputs": [
        {
          "output_type": "execute_result",
          "data": {
            "text/plain": [
              "matrix([[220,  25, 320, 180],\n",
              "        [ 65, 420, 418,   0],\n",
              "        [130, 171,  22,  48],\n",
              "        [729, 104, 270, 133]])"
            ]
          },
          "metadata": {
            "tags": []
          },
          "execution_count": 37
        }
      ]
    },
    {
      "metadata": {
        "id": "4G_rUfFKktcZ",
        "colab_type": "code",
        "colab": {
          "base_uri": "https://localhost:8080/",
          "height": 85
        },
        "outputId": "7d7902bc-0008-499a-e03e-3f2b7999e832"
      },
      "cell_type": "code",
      "source": [
        "A*B"
      ],
      "execution_count": 36,
      "outputs": [
        {
          "output_type": "execute_result",
          "data": {
            "text/plain": [
              "matrix([[ 904,  591, 1064,  686],\n",
              "        [ 724,  846, 1118,  857],\n",
              "        [ 553,  361,  608,  458],\n",
              "        [1238,  845, 1498, 1069]])"
            ]
          },
          "metadata": {
            "tags": []
          },
          "execution_count": 36
        }
      ]
    },
    {
      "metadata": {
        "id": "txQwZHpClUa9",
        "colab_type": "code",
        "colab": {
          "base_uri": "https://localhost:8080/",
          "height": 34
        },
        "outputId": "ef0be005-b5e2-4e4d-fc3f-f6f76a7255da"
      },
      "cell_type": "code",
      "source": [
        "C + D"
      ],
      "execution_count": 38,
      "outputs": [
        {
          "output_type": "execute_result",
          "data": {
            "text/plain": [
              "array([27, 18, 41, 29, 30, 26, 25, 31, 30, 21, 23, 12, 25, 50, 28, 26])"
            ]
          },
          "metadata": {
            "tags": []
          },
          "execution_count": 38
        }
      ]
    },
    {
      "metadata": {
        "id": "NEABCbn_m4--",
        "colab_type": "code",
        "colab": {
          "base_uri": "https://localhost:8080/",
          "height": 51
        },
        "outputId": "d5e23f6d-66d8-4652-a407-f3c50e7158ef"
      },
      "cell_type": "code",
      "source": [
        "C - D"
      ],
      "execution_count": 39,
      "outputs": [
        {
          "output_type": "execute_result",
          "data": {
            "text/plain": [
              "array([ 21, -12,  -7, -15,  -8, -22,  17, -27,  18,  15, -17,  10,   3,\n",
              "         0, -24,  14])"
            ]
          },
          "metadata": {
            "tags": []
          },
          "execution_count": 39
        }
      ]
    },
    {
      "metadata": {
        "id": "_cRuhri0m6qS",
        "colab_type": "code",
        "colab": {
          "base_uri": "https://localhost:8080/",
          "height": 51
        },
        "outputId": "bb300636-d215-4f62-f1df-4d6d430b6057"
      },
      "cell_type": "code",
      "source": [
        "C * D"
      ],
      "execution_count": 40,
      "outputs": [
        {
          "output_type": "execute_result",
          "data": {
            "text/plain": [
              "array([ 72,  45, 408, 154, 209,  48,  84,  58, 144,  54,  60,  11, 154,\n",
              "       625,  52, 120])"
            ]
          },
          "metadata": {
            "tags": []
          },
          "execution_count": 40
        }
      ]
    },
    {
      "metadata": {
        "id": "LxXZQXGym9WC",
        "colab_type": "code",
        "colab": {
          "base_uri": "https://localhost:8080/",
          "height": 34
        },
        "outputId": "2a0ed97c-21dd-4d88-a0c5-3b514f7cbab9"
      },
      "cell_type": "code",
      "source": [
        "np.matmul(C,D)"
      ],
      "execution_count": 41,
      "outputs": [
        {
          "output_type": "execute_result",
          "data": {
            "text/plain": [
              "2298"
            ]
          },
          "metadata": {
            "tags": []
          },
          "execution_count": 41
        }
      ]
    },
    {
      "metadata": {
        "id": "-1jfzxk0nDQ2",
        "colab_type": "code",
        "colab": {
          "base_uri": "https://localhost:8080/",
          "height": 85
        },
        "outputId": "a9f2c2ff-3675-4a8c-ca0c-f391fb5da43d"
      },
      "cell_type": "code",
      "source": [
        "A + 10"
      ],
      "execution_count": 42,
      "outputs": [
        {
          "output_type": "execute_result",
          "data": {
            "text/plain": [
              "matrix([[32, 15, 26, 19],\n",
              "        [23, 30, 29, 10],\n",
              "        [15, 19, 11, 26],\n",
              "        [37, 23, 25, 29]])"
            ]
          },
          "metadata": {
            "tags": []
          },
          "execution_count": 42
        }
      ]
    },
    {
      "metadata": {
        "id": "liFfQ_ponMrq",
        "colab_type": "code",
        "colab": {
          "base_uri": "https://localhost:8080/",
          "height": 85
        },
        "outputId": "67be5ddd-2cbd-44d0-c3a9-bade96f86aab"
      },
      "cell_type": "code",
      "source": [
        "B + 10"
      ],
      "execution_count": 43,
      "outputs": [
        {
          "output_type": "execute_result",
          "data": {
            "text/plain": [
              "matrix([[20, 15, 30, 30],\n",
              "        [15, 31, 32, 37],\n",
              "        [36, 29, 32, 13],\n",
              "        [37, 18, 28, 17]])"
            ]
          },
          "metadata": {
            "tags": []
          },
          "execution_count": 43
        }
      ]
    },
    {
      "metadata": {
        "id": "5X8zJoganQnF",
        "colab_type": "code",
        "colab": {
          "base_uri": "https://localhost:8080/",
          "height": 34
        },
        "outputId": "97982b9f-8ba2-40d0-a3b3-4379ce857e4e"
      },
      "cell_type": "code",
      "source": [
        "c + 15"
      ],
      "execution_count": 44,
      "outputs": [
        {
          "output_type": "execute_result",
          "data": {
            "text/plain": [
              "array([22, 16, 23, 17, 20])"
            ]
          },
          "metadata": {
            "tags": []
          },
          "execution_count": 44
        }
      ]
    },
    {
      "metadata": {
        "id": "x_fRJiR8nR92",
        "colab_type": "code",
        "colab": {
          "base_uri": "https://localhost:8080/",
          "height": 34
        },
        "outputId": "5b77a2e7-77ad-4529-e7d1-d4241ff3b843"
      },
      "cell_type": "code",
      "source": [
        "d + 15"
      ],
      "execution_count": 45,
      "outputs": [
        {
          "output_type": "execute_result",
          "data": {
            "text/plain": [
              "array([20, 19, 24, 15, 15])"
            ]
          },
          "metadata": {
            "tags": []
          },
          "execution_count": 45
        }
      ]
    },
    {
      "metadata": {
        "id": "ntbbiJd3nS8r",
        "colab_type": "code",
        "colab": {
          "base_uri": "https://localhost:8080/",
          "height": 85
        },
        "outputId": "dbf05a7a-045d-40c8-be99-e01bc8d91f53"
      },
      "cell_type": "code",
      "source": [
        "print((2*A) + (2*B))"
      ],
      "execution_count": 46,
      "outputs": [
        {
          "output_type": "stream",
          "text": [
            "[[ 64  20  72  58]\n",
            " [ 36  82  82  54]\n",
            " [ 62  56  46  38]\n",
            " [108  42  66  52]]\n"
          ],
          "name": "stdout"
        }
      ]
    },
    {
      "metadata": {
        "id": "IZgn9RT9ptyw",
        "colab_type": "code",
        "colab": {
          "base_uri": "https://localhost:8080/",
          "height": 85
        },
        "outputId": "dd8d29a3-c99b-4f3a-a3fa-514b30fc853b"
      },
      "cell_type": "code",
      "source": [
        "(A+B)*3\n"
      ],
      "execution_count": 47,
      "outputs": [
        {
          "output_type": "execute_result",
          "data": {
            "text/plain": [
              "matrix([[ 96,  30, 108,  87],\n",
              "        [ 54, 123, 123,  81],\n",
              "        [ 93,  84,  69,  57],\n",
              "        [162,  63,  99,  78]])"
            ]
          },
          "metadata": {
            "tags": []
          },
          "execution_count": 47
        }
      ]
    },
    {
      "metadata": {
        "id": "AVGIf7IRp5Kj",
        "colab_type": "code",
        "colab": {
          "base_uri": "https://localhost:8080/",
          "height": 85
        },
        "outputId": "d2b86de9-87c4-44f7-dab9-6f950daf09f1"
      },
      "cell_type": "code",
      "source": [
        "(A-B+A-B+B)*4 "
      ],
      "execution_count": 48,
      "outputs": [
        {
          "output_type": "execute_result",
          "data": {
            "text/plain": [
              "matrix([[ 136,   20,   48,   -8],\n",
              "        [  84,   76,   64, -108],\n",
              "        [ -64,   -4,  -80,  116],\n",
              "        [ 108,   72,   48,  124]])"
            ]
          },
          "metadata": {
            "tags": []
          },
          "execution_count": 48
        }
      ]
    },
    {
      "metadata": {
        "id": "QqaZkEQWp52M",
        "colab_type": "code",
        "colab": {}
      },
      "cell_type": "code",
      "source": [
        ""
      ],
      "execution_count": 0,
      "outputs": []
    }
  ]
}